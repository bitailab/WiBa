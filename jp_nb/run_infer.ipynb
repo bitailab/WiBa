{
 "cells": [
  {
   "cell_type": "code",
   "execution_count": 21,
   "id": "23bee60e",
   "metadata": {},
   "outputs": [
    {
     "name": "stdout",
     "output_type": "stream",
     "text": [
      "创建可视化目录: visualization_results\n",
      "正在加载模型配置: configs/wifi/petr_wifi.py\n",
      "正在加载模型检查点: result/epoch_270.pth\n",
      "load checkpoint from local path: result/epoch_270.pth\n",
      "正在加载 WiFi 数据: data/test_data/csi/S53_21_304.mat\n",
      "处理后数据形状: torch.Size([1, 3, 3, 20, 60])\n",
      "正在加载真实值数据: data/test_data/keypoint/S53_21_304.npy\n",
      "加载完成！数据形状: (3, 14, 3)\n",
      "数值范围: [0.543, 4.036]\n",
      "开始推理，置信度阈值: 0.4\n",
      "\n",
      "处理第 0 帧:\n",
      "检测框形状: (1, 100, 5)\n",
      "关键点形状: (1, 100, 14, 3)\n",
      "检测到 3 个高置信度的姿态\n",
      "预测关键点:\n",
      "- 形状: (3, 14, 3)\n",
      "- 类型: <class 'numpy.ndarray'>\n",
      "- 数值范围: [0.505, 4.054]\n",
      "已保存交互式图像到: visualization_results/frame_0_batch_0.html\n",
      "处理完成！可视化结果已保存到: visualization_results\n"
     ]
    }
   ],
   "source": [
    "%run tools/infer.py configs/wifi/petr_wifi.py result/epoch_270.pth data/test_data/ S53_21_304   --score-thr 0.4"
   ]
  },
  {
   "cell_type": "code",
   "execution_count": null,
   "id": "6685cac7",
   "metadata": {},
   "outputs": [],
   "source": []
  },
  {
   "cell_type": "code",
   "execution_count": null,
   "id": "1c9cdea8",
   "metadata": {},
   "outputs": [],
   "source": []
  },
  {
   "cell_type": "code",
   "execution_count": null,
   "id": "a9267931",
   "metadata": {},
   "outputs": [],
   "source": []
  }
 ],
 "metadata": {
  "kernelspec": {
   "display_name": "Python 3 (ipykernel)",
   "language": "python",
   "name": "python3"
  },
  "language_info": {
   "codemirror_mode": {
    "name": "ipython",
    "version": 3
   },
   "file_extension": ".py",
   "mimetype": "text/x-python",
   "name": "python",
   "nbconvert_exporter": "python",
   "pygments_lexer": "ipython3",
   "version": "3.7.10"
  }
 },
 "nbformat": 4,
 "nbformat_minor": 5
}
